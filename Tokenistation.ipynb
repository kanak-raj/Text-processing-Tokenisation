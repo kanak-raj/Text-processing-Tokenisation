{
 "cells": [
  {
   "cell_type": "code",
   "execution_count": 1,
   "id": "5e3642da-a84e-4e7c-844a-6c35576321e6",
   "metadata": {},
   "outputs": [],
   "source": [
    "import numpy as np\n",
    "import re\n",
    "from operator import itemgetter"
   ]
  },
  {
   "cell_type": "code",
   "execution_count": 69,
   "id": "b81fcacc-c0d4-43f7-999a-b8b828d83cb8",
   "metadata": {},
   "outputs": [],
   "source": [
    "Corpus={\n",
    "      'l o w _':5,\n",
    "       'l o w e r _':2,\n",
    "       'n e w e s t _':6,\n",
    "    'w i d e s t _':3,\n",
    "    'h a p p i e r _':2\n",
    "}"
   ]
  },
  {
   "cell_type": "code",
   "execution_count": 70,
   "id": "92693ef2-7628-4eec-bbb2-cc00fd1e015c",
   "metadata": {},
   "outputs": [
    {
     "data": {
      "text/plain": [
       "{'l o w _': 5,\n",
       " 'l o w e r _': 2,\n",
       " 'n e w e s t _': 6,\n",
       " 'w i d e s t _': 3,\n",
       " 'h a p p i e r _': 2}"
      ]
     },
     "execution_count": 70,
     "metadata": {},
     "output_type": "execute_result"
    }
   ],
   "source": [
    "Corpus"
   ]
  },
  {
   "cell_type": "code",
   "execution_count": 71,
   "id": "9d2c4bc3-1839-4422-a6dc-01ff04a2cffc",
   "metadata": {},
   "outputs": [],
   "source": [
    "def getPairCounts(Corpus):\n",
    "    pairs={}\n",
    "    for word,fr in Corpus.items():\n",
    "        symbols=word.split(' ')\n",
    "        for i in range(len(symbols)-1):\n",
    "            pair=(symbols[i],symbols[i+1])\n",
    "            cfr=pairs.get(pair,0)\n",
    "            pairs[pair]=cfr+fr\n",
    "    return pairs"
   ]
  },
  {
   "cell_type": "code",
   "execution_count": 72,
   "id": "71703518-2838-4f72-a6dd-e8681f1e8048",
   "metadata": {},
   "outputs": [],
   "source": [
    "pairsCounts=getPairCounts(Corpus)"
   ]
  },
  {
   "cell_type": "code",
   "execution_count": 73,
   "id": "17ec1df0-1b20-42ec-bd8c-7b93c8796405",
   "metadata": {},
   "outputs": [
    {
     "data": {
      "text/plain": [
       "{('l', 'o'): 7,\n",
       " ('o', 'w'): 7,\n",
       " ('w', '_'): 5,\n",
       " ('w', 'e'): 8,\n",
       " ('e', 'r'): 4,\n",
       " ('r', '_'): 4,\n",
       " ('n', 'e'): 6,\n",
       " ('e', 'w'): 6,\n",
       " ('e', 's'): 9,\n",
       " ('s', 't'): 9,\n",
       " ('t', '_'): 9,\n",
       " ('w', 'i'): 3,\n",
       " ('i', 'd'): 3,\n",
       " ('d', 'e'): 3,\n",
       " ('h', 'a'): 2,\n",
       " ('a', 'p'): 2,\n",
       " ('p', 'p'): 2,\n",
       " ('p', 'i'): 2,\n",
       " ('i', 'e'): 2}"
      ]
     },
     "execution_count": 73,
     "metadata": {},
     "output_type": "execute_result"
    }
   ],
   "source": [
    "pairsCounts\n",
    "    "
   ]
  },
  {
   "cell_type": "code",
   "execution_count": 90,
   "id": "63709c9d-0205-4b38-b0d0-840787925ee1",
   "metadata": {},
   "outputs": [],
   "source": [
    "def getBestPair(pairsCounts):\n",
    "    return max(pairsCounts,key=pairsCounts.get)"
   ]
  },
  {
   "cell_type": "code",
   "execution_count": 91,
   "id": "395c20f7-7420-4f0a-af84-24c73a413cd2",
   "metadata": {},
   "outputs": [
    {
     "data": {
      "text/plain": [
       "('e', 's')"
      ]
     },
     "execution_count": 91,
     "metadata": {},
     "output_type": "execute_result"
    }
   ],
   "source": [
    "getBestPair(pairsCounts)"
   ]
  },
  {
   "cell_type": "code",
   "execution_count": 109,
   "id": "9f0fb28b-a089-44f8-8f20-bcbe85b696d0",
   "metadata": {},
   "outputs": [],
   "source": [
    "def mergeInCorpus(bestPair,Corpus):\n",
    "    newCorpus={}\n",
    "    for word in Corpus:\n",
    "        newWord=re.sub(' '.join(bestPair),''.join(bestPair),word)\n",
    "        newCorpus[newWord]=Corpus[word]\n",
    "    return newCorpus"
   ]
  },
  {
   "cell_type": "code",
   "execution_count": 110,
   "id": "0171f8a7-6b85-41cd-960d-c0202c309a55",
   "metadata": {},
   "outputs": [
    {
     "data": {
      "text/plain": [
       "{'l o w _': 5,\n",
       " 'l o w e r _': 2,\n",
       " 'n e w es t _': 6,\n",
       " 'w i d es t _': 3,\n",
       " 'h a p p i e r _': 2}"
      ]
     },
     "execution_count": 110,
     "metadata": {},
     "output_type": "execute_result"
    }
   ],
   "source": [
    "bestPair=getBestPair(pairsCounts)\n",
    "t=mergeInCorpus(bestPair,Corpus)\n",
    "t"
   ]
  },
  {
   "cell_type": "code",
   "execution_count": 116,
   "id": "9350a6fe-4a8e-4999-a14e-929984b41a1b",
   "metadata": {},
   "outputs": [],
   "source": [
    "def runBPE(Corpus,k):\n",
    "    bpeStats= {}\n",
    "    for i in range(k):\n",
    "        pairCounts=getPairCounts(Corpus)\n",
    "        if not pairCounts:\n",
    "            break\n",
    "        bestPair=getBestPair(pairCounts)\n",
    "        bpeStats[bestPair]=i\n",
    "        Corpus=mergeInCorpus(bestPair,Corpus)\n",
    "    return Corpus,bpeStats"
   ]
  },
  {
   "cell_type": "code",
   "execution_count": 117,
   "id": "3853038b-2f94-4385-8e56-c6527f2a9de1",
   "metadata": {},
   "outputs": [],
   "source": [
    "Corpus={\n",
    "      'l o w _':5,\n",
    "       'l o w e r _':2,\n",
    "       'n e w e s t _':6,\n",
    "    'w i d e s t _':3,\n",
    "    'h a p p i e r _':2\n",
    "}"
   ]
  },
  {
   "cell_type": "code",
   "execution_count": 118,
   "id": "c21a3a36-c5c6-408f-9203-eaec0274c024",
   "metadata": {},
   "outputs": [],
   "source": [
    "newCorpus,bpeStats=runBPE(Corpus,10)"
   ]
  },
  {
   "cell_type": "code",
   "execution_count": 119,
   "id": "36411823-4d07-492d-a08d-8e86739fcc25",
   "metadata": {},
   "outputs": [
    {
     "data": {
      "text/plain": [
       "{'low_': 5, 'low er _': 2, 'newest_': 6, 'w i d est_': 3, 'h a p p i er _': 2}"
      ]
     },
     "execution_count": 119,
     "metadata": {},
     "output_type": "execute_result"
    }
   ],
   "source": [
    "newCorpus"
   ]
  },
  {
   "cell_type": "code",
   "execution_count": 120,
   "id": "4ad68d73-07e2-463e-925f-f6dd2c85e28a",
   "metadata": {},
   "outputs": [
    {
     "data": {
      "text/plain": [
       "{('e', 's'): 0,\n",
       " ('es', 't'): 1,\n",
       " ('est', '_'): 2,\n",
       " ('l', 'o'): 3,\n",
       " ('lo', 'w'): 4,\n",
       " ('n', 'e'): 5,\n",
       " ('ne', 'w'): 6,\n",
       " ('new', 'est_'): 7,\n",
       " ('low', '_'): 8,\n",
       " ('e', 'r'): 9}"
      ]
     },
     "execution_count": 120,
     "metadata": {},
     "output_type": "execute_result"
    }
   ],
   "source": [
    "bpeStats"
   ]
  },
  {
   "cell_type": "code",
   "execution_count": 192,
   "id": "8d8e7352-7d45-48b1-985b-6134cc6b17a9",
   "metadata": {},
   "outputs": [],
   "source": [
    "newword='lowest'\n",
    "newword2=(' '.join(list(newword))+' _')"
   ]
  },
  {
   "cell_type": "code",
   "execution_count": 193,
   "id": "47514ec6-1b30-42e9-8ccc-970ab6e7c3dc",
   "metadata": {},
   "outputs": [
    {
     "data": {
      "text/plain": [
       "'l o w e s t _'"
      ]
     },
     "execution_count": 193,
     "metadata": {},
     "output_type": "execute_result"
    }
   ],
   "source": [
    "newword2"
   ]
  },
  {
   "cell_type": "code",
   "execution_count": 148,
   "id": "1d67937a-e0e4-4c05-ba15-afc2cd23ea89",
   "metadata": {},
   "outputs": [],
   "source": [
    "def getAllPairs(word):\n",
    "    pairs=[]\n",
    "    word=word.split(' ')\n",
    "    prevChar=word[0]\n",
    "    for char in word[1:]:\n",
    "        pairs.append((prevChar,char))\n",
    "        prevChar=char\n",
    "    return pairs"
   ]
  },
  {
   "cell_type": "code",
   "execution_count": 149,
   "id": "ea345a86-ea4a-4b49-a258-722540b9c685",
   "metadata": {},
   "outputs": [],
   "source": [
    "pairs=getAllPairs(newword2)"
   ]
  },
  {
   "cell_type": "code",
   "execution_count": 150,
   "id": "05c40a16-6f8c-493e-a2f2-1be26a86bcf1",
   "metadata": {},
   "outputs": [
    {
     "data": {
      "text/plain": [
       "[('l', 'o'), ('o', 'w'), ('w', 'e'), ('e', 's'), ('s', 't_')]"
      ]
     },
     "execution_count": 150,
     "metadata": {},
     "output_type": "execute_result"
    }
   ],
   "source": [
    "pairs"
   ]
  },
  {
   "cell_type": "code",
   "execution_count": 176,
   "id": "6ea59cc3-9722-492a-bdf9-e3f3707c0165",
   "metadata": {},
   "outputs": [],
   "source": [
    "def getPairToBeMerged(bpeStats,pairs):\n",
    "    bpeCodes=[(pair,bpeStats[pair]) for pair in pairs if pair in bpeStats]\n",
    "    if len(bpeCodes)==0:\n",
    "        return (-1,-1)\n",
    "    pairToBeMerged=min(bpeCodes,key=itemgetter(1))[0]\n",
    "    return pairToBeMerged\n",
    "    "
   ]
  },
  {
   "cell_type": "code",
   "execution_count": 177,
   "id": "ff23dea4-a298-4fe5-8407-eb341d1ccadd",
   "metadata": {},
   "outputs": [],
   "source": [
    "pairToBeMerged=getPairToBeMerged(bpeStats,pairs)"
   ]
  },
  {
   "cell_type": "code",
   "execution_count": 169,
   "id": "45b5109d-2b04-4255-a8a2-e09bff45f26a",
   "metadata": {},
   "outputs": [],
   "source": [
    "def mergeLetters(word,pairToBeMerged):\n",
    "    newword=re.sub(' '.join(pairToBeMerged),''.join(pairToBeMerged),word)\n",
    "    return newword"
   ]
  },
  {
   "cell_type": "markdown",
   "id": "b24d8f81-698a-42eb-ba9c-5cf3f079f357",
   "metadata": {},
   "source": [
    "\n",
    "  "
   ]
  },
  {
   "cell_type": "code",
   "execution_count": 170,
   "id": "dea1a690-b250-4d8c-bb07-3200c175dbbf",
   "metadata": {},
   "outputs": [
    {
     "data": {
      "text/plain": [
       "'l o w es t_'"
      ]
     },
     "execution_count": 170,
     "metadata": {},
     "output_type": "execute_result"
    }
   ],
   "source": [
    "mergeLetters(newword2,pairToBeMerged)"
   ]
  },
  {
   "cell_type": "code",
   "execution_count": 200,
   "id": "1116f7a0-ed0f-42bd-aa43-9ae3103b21dd",
   "metadata": {},
   "outputs": [],
   "source": [
    "def bpeTokenize(word,bpeStats):\n",
    "    if len(word)== 1:\n",
    "        return word\n",
    "    word=' '.join(list(word))+' _'\n",
    "    while True:\n",
    "        pairs=getAllPairs(word)\n",
    "        pairToBeMerged= getPairToBeMerged(bpeStats,pairs)\n",
    "        if pairToBeMerged[0] == -1:\n",
    "            break\n",
    "        word= mergeLetters(word,pairToBeMerged)\n",
    "    return word\n",
    "    "
   ]
  },
  {
   "cell_type": "code",
   "execution_count": 201,
   "id": "cea75926-6e58-44c5-8b2d-b722184e66dd",
   "metadata": {},
   "outputs": [],
   "source": [
    "newWord=bpeTokenize('slowest',bpeStats)"
   ]
  },
  {
   "cell_type": "code",
   "execution_count": 202,
   "id": "e28babff-3717-4919-9bdd-6f504c62a219",
   "metadata": {},
   "outputs": [
    {
     "data": {
      "text/plain": [
       "'s low est_'"
      ]
     },
     "execution_count": 202,
     "metadata": {},
     "output_type": "execute_result"
    }
   ],
   "source": [
    "newWord"
   ]
  },
  {
   "cell_type": "code",
   "execution_count": null,
   "id": "5fa80208-d466-437a-bbdb-598af92a2d6d",
   "metadata": {},
   "outputs": [],
   "source": []
  }
 ],
 "metadata": {
  "kernelspec": {
   "display_name": "Python 3 (ipykernel)",
   "language": "python",
   "name": "python3"
  },
  "language_info": {
   "codemirror_mode": {
    "name": "ipython",
    "version": 3
   },
   "file_extension": ".py",
   "mimetype": "text/x-python",
   "name": "python",
   "nbconvert_exporter": "python",
   "pygments_lexer": "ipython3",
   "version": "3.9.7"
  }
 },
 "nbformat": 4,
 "nbformat_minor": 5
}
